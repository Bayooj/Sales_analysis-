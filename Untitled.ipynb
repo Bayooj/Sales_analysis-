{
 "cells": [
  {
   "cell_type": "code",
   "execution_count": 1,
   "id": "6070a02f",
   "metadata": {},
   "outputs": [],
   "source": [
    "import pandas as pd \n",
    "import os "
   ]
  },
  {
   "cell_type": "markdown",
   "id": "2e99d2a0",
   "metadata": {},
   "source": [
    "# merged the 12 months data into a single CSV file "
   ]
  },
  {
   "cell_type": "code",
   "execution_count": 6,
   "id": "f4333bea",
   "metadata": {},
   "outputs": [],
   "source": [
    "\n",
    "files = [file for file in os.listdir('./Sales_Data')]\n",
    "\n",
    "all_months_data = pd.DataFrame()\n",
    "\n",
    "for file in files:\n",
    "    df = pd.read_csv(\"./sales_data/\"+file)\n",
    "    all_months_data = pd.concat([all_months_data,df])\n",
    "all_months_data.to_csv(\"all_data.csv\", index=False)    \n"
   ]
  },
  {
   "cell_type": "code",
   "execution_count": null,
   "id": "51f2d741",
   "metadata": {},
   "outputs": [],
   "source": []
  }
 ],
 "metadata": {
  "kernelspec": {
   "display_name": "Python 3 (ipykernel)",
   "language": "python",
   "name": "python3"
  },
  "language_info": {
   "codemirror_mode": {
    "name": "ipython",
    "version": 3
   },
   "file_extension": ".py",
   "mimetype": "text/x-python",
   "name": "python",
   "nbconvert_exporter": "python",
   "pygments_lexer": "ipython3",
   "version": "3.11.5"
  }
 },
 "nbformat": 4,
 "nbformat_minor": 5
}
